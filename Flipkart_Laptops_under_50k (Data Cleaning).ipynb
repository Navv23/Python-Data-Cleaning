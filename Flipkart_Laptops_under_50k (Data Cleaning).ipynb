{
 "cells": [
  {
   "cell_type": "code",
   "execution_count": 1,
   "id": "0dd5fff4",
   "metadata": {},
   "outputs": [],
   "source": [
    "#laptops under 50k on flipkart (as on 08.12.2022)\n",
    "#data cleaning\n",
    "import pandas as pd"
   ]
  },
  {
   "cell_type": "code",
   "execution_count": 2,
   "id": "23aad6f3",
   "metadata": {},
   "outputs": [],
   "source": [
    "df = pd.read_csv(r\"C:/Users/navne/Desktop/flipkart_laptop_under_50k.csv\")"
   ]
  },
  {
   "cell_type": "code",
   "execution_count": 3,
   "id": "83c8e6c2",
   "metadata": {},
   "outputs": [
    {
     "data": {
      "text/plain": [
       "link              25\n",
       "name              25\n",
       "rating           138\n",
       "rating_count     138\n",
       "reviews          138\n",
       "description_1     25\n",
       "description_2     25\n",
       "description_3     25\n",
       "description_4     25\n",
       "description_5     26\n",
       "offer price       25\n",
       "mrp price         37\n",
       "dtype: int64"
      ]
     },
     "execution_count": 3,
     "metadata": {},
     "output_type": "execute_result"
    }
   ],
   "source": [
    "df.isnull().sum()"
   ]
  },
  {
   "cell_type": "code",
   "execution_count": 4,
   "id": "3a919dee",
   "metadata": {},
   "outputs": [],
   "source": [
    "df1 = df[df['rating_count'].notna()]"
   ]
  },
  {
   "cell_type": "code",
   "execution_count": 5,
   "id": "e0e17caf",
   "metadata": {},
   "outputs": [
    {
     "data": {
      "text/plain": [
       "link              0\n",
       "name              0\n",
       "rating            0\n",
       "rating_count      0\n",
       "reviews           0\n",
       "description_1     0\n",
       "description_2     0\n",
       "description_3     0\n",
       "description_4     0\n",
       "description_5     1\n",
       "offer price       0\n",
       "mrp price        12\n",
       "dtype: int64"
      ]
     },
     "execution_count": 5,
     "metadata": {},
     "output_type": "execute_result"
    }
   ],
   "source": [
    "df1.isnull().sum()"
   ]
  },
  {
   "cell_type": "code",
   "execution_count": 6,
   "id": "26f539dc",
   "metadata": {
    "scrolled": true
   },
   "outputs": [
    {
     "data": {
      "text/plain": [
       "link              object\n",
       "name              object\n",
       "rating           float64\n",
       "rating_count      object\n",
       "reviews           object\n",
       "description_1     object\n",
       "description_2     object\n",
       "description_3     object\n",
       "description_4     object\n",
       "description_5     object\n",
       "offer price       object\n",
       "mrp price         object\n",
       "dtype: object"
      ]
     },
     "execution_count": 6,
     "metadata": {},
     "output_type": "execute_result"
    }
   ],
   "source": [
    "df1.dtypes"
   ]
  },
  {
   "cell_type": "code",
   "execution_count": 7,
   "id": "97160c3c",
   "metadata": {
    "collapsed": true
   },
   "outputs": [
    {
     "name": "stderr",
     "output_type": "stream",
     "text": [
      "D:\\Softwares\\Anaconda\\lib\\site-packages\\pandas\\util\\_decorators.py:311: SettingWithCopyWarning: \n",
      "A value is trying to be set on a copy of a slice from a DataFrame\n",
      "\n",
      "See the caveats in the documentation: https://pandas.pydata.org/pandas-docs/stable/user_guide/indexing.html#returning-a-view-versus-a-copy\n",
      "  return func(*args, **kwargs)\n"
     ]
    }
   ],
   "source": [
    "df1.dropna(how='any',inplace=True)"
   ]
  },
  {
   "cell_type": "code",
   "execution_count": 8,
   "id": "5e634980",
   "metadata": {},
   "outputs": [
    {
     "data": {
      "text/html": [
       "<div>\n",
       "<style scoped>\n",
       "    .dataframe tbody tr th:only-of-type {\n",
       "        vertical-align: middle;\n",
       "    }\n",
       "\n",
       "    .dataframe tbody tr th {\n",
       "        vertical-align: top;\n",
       "    }\n",
       "\n",
       "    .dataframe thead th {\n",
       "        text-align: right;\n",
       "    }\n",
       "</style>\n",
       "<table border=\"1\" class=\"dataframe\">\n",
       "  <thead>\n",
       "    <tr style=\"text-align: right;\">\n",
       "      <th></th>\n",
       "      <th>link</th>\n",
       "      <th>name</th>\n",
       "      <th>rating</th>\n",
       "      <th>rating_count</th>\n",
       "      <th>reviews</th>\n",
       "      <th>description_1</th>\n",
       "      <th>description_2</th>\n",
       "      <th>description_3</th>\n",
       "      <th>description_4</th>\n",
       "      <th>description_5</th>\n",
       "      <th>offer price</th>\n",
       "      <th>mrp price</th>\n",
       "    </tr>\n",
       "  </thead>\n",
       "  <tbody>\n",
       "    <tr>\n",
       "      <th>0</th>\n",
       "      <td>https://www.flipkart.com/acer-aspire-3-ryzen-5...</td>\n",
       "      <td>acer Aspire 3 Ryzen 5 Quad Core 3500U - (8 GB/...</td>\n",
       "      <td>4.4</td>\n",
       "      <td>358 Ratings</td>\n",
       "      <td>39 Reviews</td>\n",
       "      <td>AMD Ryzen 5 Quad Core Processor</td>\n",
       "      <td>8 GB DDR4 RAM</td>\n",
       "      <td>64 bit Windows 10 Operating System</td>\n",
       "      <td>512 GB SSD</td>\n",
       "      <td>39.62 cm (15.6 inch) Display</td>\n",
       "      <td>₹39,290</td>\n",
       "      <td>₹57,999</td>\n",
       "    </tr>\n",
       "    <tr>\n",
       "      <th>1</th>\n",
       "      <td>https://www.flipkart.com/acer-extensa-15-core-...</td>\n",
       "      <td>acer Extensa 15 Core i3 11th Gen - (4 GB/256 G...</td>\n",
       "      <td>4.1</td>\n",
       "      <td>159 Ratings</td>\n",
       "      <td>25 Reviews</td>\n",
       "      <td>Intel Core i3 Processor (11th Gen)</td>\n",
       "      <td>4 GB DDR4 RAM</td>\n",
       "      <td>64 bit Windows 11 Operating System</td>\n",
       "      <td>256 GB SSD</td>\n",
       "      <td>39.62 cm (15.6 inch) Display</td>\n",
       "      <td>₹29,990</td>\n",
       "      <td>₹44,999</td>\n",
       "    </tr>\n",
       "    <tr>\n",
       "      <th>2</th>\n",
       "      <td>https://www.flipkart.com/dell-inspiron-core-i3...</td>\n",
       "      <td>DELL Inspiron Core i3 11th Gen - (8 GB/1 TB HD...</td>\n",
       "      <td>4.7</td>\n",
       "      <td>18 Ratings</td>\n",
       "      <td>3 Reviews</td>\n",
       "      <td>Intel Core i3 Processor (11th Gen)</td>\n",
       "      <td>8 GB DDR4 RAM</td>\n",
       "      <td>Windows 11 Operating System</td>\n",
       "      <td>1 TB HDD|256 GB SSD</td>\n",
       "      <td>39.62 cm (15.6 inch) Display</td>\n",
       "      <td>₹39,990</td>\n",
       "      <td>₹61,202</td>\n",
       "    </tr>\n",
       "    <tr>\n",
       "      <th>3</th>\n",
       "      <td>https://www.flipkart.com/redmibook-pro-core-i3...</td>\n",
       "      <td>RedmiBook Pro Core i3 11th Gen - (8 GB/256 GB ...</td>\n",
       "      <td>4.2</td>\n",
       "      <td>3,710 Ratings</td>\n",
       "      <td>426 Reviews</td>\n",
       "      <td>Intel Core i3 Processor (11th Gen)</td>\n",
       "      <td>8 GB DDR4 RAM</td>\n",
       "      <td>Windows 11 Operating System</td>\n",
       "      <td>256 GB SSD</td>\n",
       "      <td>39.62 cm (15.6 inch) Display</td>\n",
       "      <td>₹30,990</td>\n",
       "      <td>₹51,999</td>\n",
       "    </tr>\n",
       "    <tr>\n",
       "      <th>4</th>\n",
       "      <td>https://www.flipkart.com/lenovo-ideapad-3-core...</td>\n",
       "      <td>Lenovo IdeaPad 3 Core i3 11th Gen - (8 GB/512 ...</td>\n",
       "      <td>4.2</td>\n",
       "      <td>3,764 Ratings</td>\n",
       "      <td>358 Reviews</td>\n",
       "      <td>Intel Core i3 Processor (11th Gen)</td>\n",
       "      <td>8 GB DDR4 RAM</td>\n",
       "      <td>64 bit Windows 11 Operating System</td>\n",
       "      <td>512 GB SSD</td>\n",
       "      <td>39.62 cm (15.6 inch) Display</td>\n",
       "      <td>₹38,000</td>\n",
       "      <td>₹59,390</td>\n",
       "    </tr>\n",
       "  </tbody>\n",
       "</table>\n",
       "</div>"
      ],
      "text/plain": [
       "                                                link  \\\n",
       "0  https://www.flipkart.com/acer-aspire-3-ryzen-5...   \n",
       "1  https://www.flipkart.com/acer-extensa-15-core-...   \n",
       "2  https://www.flipkart.com/dell-inspiron-core-i3...   \n",
       "3  https://www.flipkart.com/redmibook-pro-core-i3...   \n",
       "4  https://www.flipkart.com/lenovo-ideapad-3-core...   \n",
       "\n",
       "                                                name  rating   rating_count  \\\n",
       "0  acer Aspire 3 Ryzen 5 Quad Core 3500U - (8 GB/...     4.4    358 Ratings   \n",
       "1  acer Extensa 15 Core i3 11th Gen - (4 GB/256 G...     4.1    159 Ratings   \n",
       "2  DELL Inspiron Core i3 11th Gen - (8 GB/1 TB HD...     4.7     18 Ratings   \n",
       "3  RedmiBook Pro Core i3 11th Gen - (8 GB/256 GB ...     4.2  3,710 Ratings   \n",
       "4  Lenovo IdeaPad 3 Core i3 11th Gen - (8 GB/512 ...     4.2  3,764 Ratings   \n",
       "\n",
       "       reviews                       description_1  description_2  \\\n",
       "0   39 Reviews     AMD Ryzen 5 Quad Core Processor  8 GB DDR4 RAM   \n",
       "1   25 Reviews  Intel Core i3 Processor (11th Gen)  4 GB DDR4 RAM   \n",
       "2    3 Reviews  Intel Core i3 Processor (11th Gen)  8 GB DDR4 RAM   \n",
       "3  426 Reviews  Intel Core i3 Processor (11th Gen)  8 GB DDR4 RAM   \n",
       "4  358 Reviews  Intel Core i3 Processor (11th Gen)  8 GB DDR4 RAM   \n",
       "\n",
       "                        description_3        description_4  \\\n",
       "0  64 bit Windows 10 Operating System           512 GB SSD   \n",
       "1  64 bit Windows 11 Operating System           256 GB SSD   \n",
       "2         Windows 11 Operating System  1 TB HDD|256 GB SSD   \n",
       "3         Windows 11 Operating System           256 GB SSD   \n",
       "4  64 bit Windows 11 Operating System           512 GB SSD   \n",
       "\n",
       "                  description_5 offer price mrp price  \n",
       "0  39.62 cm (15.6 inch) Display     ₹39,290   ₹57,999  \n",
       "1  39.62 cm (15.6 inch) Display     ₹29,990   ₹44,999  \n",
       "2  39.62 cm (15.6 inch) Display     ₹39,990   ₹61,202  \n",
       "3  39.62 cm (15.6 inch) Display     ₹30,990   ₹51,999  \n",
       "4  39.62 cm (15.6 inch) Display     ₹38,000   ₹59,390  "
      ]
     },
     "execution_count": 8,
     "metadata": {},
     "output_type": "execute_result"
    }
   ],
   "source": [
    "df1.head()"
   ]
  },
  {
   "cell_type": "code",
   "execution_count": 9,
   "id": "67693729",
   "metadata": {},
   "outputs": [],
   "source": [
    "def handle_rating_count(x):\n",
    "    x = str(x).split(\" \")\n",
    "    x = x[0]\n",
    "    return str(x)"
   ]
  },
  {
   "cell_type": "code",
   "execution_count": 10,
   "id": "af96663b",
   "metadata": {
    "collapsed": true
   },
   "outputs": [
    {
     "name": "stderr",
     "output_type": "stream",
     "text": [
      "C:\\Users\\navne\\AppData\\Local\\Temp/ipykernel_13772/3042512415.py:1: SettingWithCopyWarning: \n",
      "A value is trying to be set on a copy of a slice from a DataFrame.\n",
      "Try using .loc[row_indexer,col_indexer] = value instead\n",
      "\n",
      "See the caveats in the documentation: https://pandas.pydata.org/pandas-docs/stable/user_guide/indexing.html#returning-a-view-versus-a-copy\n",
      "  df1['rating_count'] = df1['rating_count'].apply(handle_rating_count)\n"
     ]
    }
   ],
   "source": [
    "df1['rating_count'] = df1['rating_count'].apply(handle_rating_count)"
   ]
  },
  {
   "cell_type": "code",
   "execution_count": 11,
   "id": "bb275632",
   "metadata": {},
   "outputs": [],
   "source": [
    "def handle_comma(x):\n",
    "    if \",\" in x:\n",
    "        x = x.replace(',','')\n",
    "        return int(x)\n",
    "    else:\n",
    "        return int(x)"
   ]
  },
  {
   "cell_type": "code",
   "execution_count": 12,
   "id": "eb1cedae",
   "metadata": {
    "collapsed": true
   },
   "outputs": [
    {
     "name": "stderr",
     "output_type": "stream",
     "text": [
      "C:\\Users\\navne\\AppData\\Local\\Temp/ipykernel_13772/1833926191.py:1: SettingWithCopyWarning: \n",
      "A value is trying to be set on a copy of a slice from a DataFrame.\n",
      "Try using .loc[row_indexer,col_indexer] = value instead\n",
      "\n",
      "See the caveats in the documentation: https://pandas.pydata.org/pandas-docs/stable/user_guide/indexing.html#returning-a-view-versus-a-copy\n",
      "  df1['rating_count'] = df1['rating_count'].apply(handle_comma)\n"
     ]
    }
   ],
   "source": [
    "df1['rating_count'] = df1['rating_count'].apply(handle_comma)"
   ]
  },
  {
   "cell_type": "code",
   "execution_count": 13,
   "id": "3ec27114",
   "metadata": {
    "collapsed": true
   },
   "outputs": [
    {
     "name": "stderr",
     "output_type": "stream",
     "text": [
      "D:\\Softwares\\Anaconda\\lib\\site-packages\\pandas\\core\\frame.py:4906: SettingWithCopyWarning: \n",
      "A value is trying to be set on a copy of a slice from a DataFrame\n",
      "\n",
      "See the caveats in the documentation: https://pandas.pydata.org/pandas-docs/stable/user_guide/indexing.html#returning-a-view-versus-a-copy\n",
      "  return super().drop(\n"
     ]
    }
   ],
   "source": [
    "df1.drop(['description_3','description_2'],axis=1,inplace=True)"
   ]
  },
  {
   "cell_type": "code",
   "execution_count": 14,
   "id": "cb5de65f",
   "metadata": {
    "collapsed": true
   },
   "outputs": [
    {
     "name": "stderr",
     "output_type": "stream",
     "text": [
      "C:\\Users\\navne\\AppData\\Local\\Temp/ipykernel_13772/2198792574.py:1: SettingWithCopyWarning: \n",
      "A value is trying to be set on a copy of a slice from a DataFrame.\n",
      "Try using .loc[row_indexer,col_indexer] = value instead\n",
      "\n",
      "See the caveats in the documentation: https://pandas.pydata.org/pandas-docs/stable/user_guide/indexing.html#returning-a-view-versus-a-copy\n",
      "  df1['reviews'] = df1['reviews'].apply(lambda x:str(x).split(\" \")[0])\n"
     ]
    }
   ],
   "source": [
    "df1['reviews'] = df1['reviews'].apply(lambda x:str(x).split(\" \")[0])"
   ]
  },
  {
   "cell_type": "code",
   "execution_count": 15,
   "id": "7f0d4422",
   "metadata": {},
   "outputs": [
    {
     "data": {
      "text/html": [
       "<div>\n",
       "<style scoped>\n",
       "    .dataframe tbody tr th:only-of-type {\n",
       "        vertical-align: middle;\n",
       "    }\n",
       "\n",
       "    .dataframe tbody tr th {\n",
       "        vertical-align: top;\n",
       "    }\n",
       "\n",
       "    .dataframe thead th {\n",
       "        text-align: right;\n",
       "    }\n",
       "</style>\n",
       "<table border=\"1\" class=\"dataframe\">\n",
       "  <thead>\n",
       "    <tr style=\"text-align: right;\">\n",
       "      <th></th>\n",
       "      <th>link</th>\n",
       "      <th>name</th>\n",
       "      <th>rating</th>\n",
       "      <th>rating_count</th>\n",
       "      <th>reviews</th>\n",
       "      <th>description_1</th>\n",
       "      <th>description_4</th>\n",
       "      <th>description_5</th>\n",
       "      <th>offer price</th>\n",
       "      <th>mrp price</th>\n",
       "    </tr>\n",
       "  </thead>\n",
       "  <tbody>\n",
       "    <tr>\n",
       "      <th>0</th>\n",
       "      <td>https://www.flipkart.com/acer-aspire-3-ryzen-5...</td>\n",
       "      <td>acer Aspire 3 Ryzen 5 Quad Core 3500U - (8 GB/...</td>\n",
       "      <td>4.4</td>\n",
       "      <td>358</td>\n",
       "      <td>39</td>\n",
       "      <td>AMD Ryzen 5 Quad Core Processor</td>\n",
       "      <td>512 GB SSD</td>\n",
       "      <td>39.62 cm (15.6 inch) Display</td>\n",
       "      <td>₹39,290</td>\n",
       "      <td>₹57,999</td>\n",
       "    </tr>\n",
       "    <tr>\n",
       "      <th>1</th>\n",
       "      <td>https://www.flipkart.com/acer-extensa-15-core-...</td>\n",
       "      <td>acer Extensa 15 Core i3 11th Gen - (4 GB/256 G...</td>\n",
       "      <td>4.1</td>\n",
       "      <td>159</td>\n",
       "      <td>25</td>\n",
       "      <td>Intel Core i3 Processor (11th Gen)</td>\n",
       "      <td>256 GB SSD</td>\n",
       "      <td>39.62 cm (15.6 inch) Display</td>\n",
       "      <td>₹29,990</td>\n",
       "      <td>₹44,999</td>\n",
       "    </tr>\n",
       "    <tr>\n",
       "      <th>2</th>\n",
       "      <td>https://www.flipkart.com/dell-inspiron-core-i3...</td>\n",
       "      <td>DELL Inspiron Core i3 11th Gen - (8 GB/1 TB HD...</td>\n",
       "      <td>4.7</td>\n",
       "      <td>18</td>\n",
       "      <td>3</td>\n",
       "      <td>Intel Core i3 Processor (11th Gen)</td>\n",
       "      <td>1 TB HDD|256 GB SSD</td>\n",
       "      <td>39.62 cm (15.6 inch) Display</td>\n",
       "      <td>₹39,990</td>\n",
       "      <td>₹61,202</td>\n",
       "    </tr>\n",
       "    <tr>\n",
       "      <th>3</th>\n",
       "      <td>https://www.flipkart.com/redmibook-pro-core-i3...</td>\n",
       "      <td>RedmiBook Pro Core i3 11th Gen - (8 GB/256 GB ...</td>\n",
       "      <td>4.2</td>\n",
       "      <td>3710</td>\n",
       "      <td>426</td>\n",
       "      <td>Intel Core i3 Processor (11th Gen)</td>\n",
       "      <td>256 GB SSD</td>\n",
       "      <td>39.62 cm (15.6 inch) Display</td>\n",
       "      <td>₹30,990</td>\n",
       "      <td>₹51,999</td>\n",
       "    </tr>\n",
       "    <tr>\n",
       "      <th>4</th>\n",
       "      <td>https://www.flipkart.com/lenovo-ideapad-3-core...</td>\n",
       "      <td>Lenovo IdeaPad 3 Core i3 11th Gen - (8 GB/512 ...</td>\n",
       "      <td>4.2</td>\n",
       "      <td>3764</td>\n",
       "      <td>358</td>\n",
       "      <td>Intel Core i3 Processor (11th Gen)</td>\n",
       "      <td>512 GB SSD</td>\n",
       "      <td>39.62 cm (15.6 inch) Display</td>\n",
       "      <td>₹38,000</td>\n",
       "      <td>₹59,390</td>\n",
       "    </tr>\n",
       "  </tbody>\n",
       "</table>\n",
       "</div>"
      ],
      "text/plain": [
       "                                                link  \\\n",
       "0  https://www.flipkart.com/acer-aspire-3-ryzen-5...   \n",
       "1  https://www.flipkart.com/acer-extensa-15-core-...   \n",
       "2  https://www.flipkart.com/dell-inspiron-core-i3...   \n",
       "3  https://www.flipkart.com/redmibook-pro-core-i3...   \n",
       "4  https://www.flipkart.com/lenovo-ideapad-3-core...   \n",
       "\n",
       "                                                name  rating  rating_count  \\\n",
       "0  acer Aspire 3 Ryzen 5 Quad Core 3500U - (8 GB/...     4.4           358   \n",
       "1  acer Extensa 15 Core i3 11th Gen - (4 GB/256 G...     4.1           159   \n",
       "2  DELL Inspiron Core i3 11th Gen - (8 GB/1 TB HD...     4.7            18   \n",
       "3  RedmiBook Pro Core i3 11th Gen - (8 GB/256 GB ...     4.2          3710   \n",
       "4  Lenovo IdeaPad 3 Core i3 11th Gen - (8 GB/512 ...     4.2          3764   \n",
       "\n",
       "  reviews                       description_1        description_4  \\\n",
       "0      39     AMD Ryzen 5 Quad Core Processor           512 GB SSD   \n",
       "1      25  Intel Core i3 Processor (11th Gen)           256 GB SSD   \n",
       "2       3  Intel Core i3 Processor (11th Gen)  1 TB HDD|256 GB SSD   \n",
       "3     426  Intel Core i3 Processor (11th Gen)           256 GB SSD   \n",
       "4     358  Intel Core i3 Processor (11th Gen)           512 GB SSD   \n",
       "\n",
       "                  description_5 offer price mrp price  \n",
       "0  39.62 cm (15.6 inch) Display     ₹39,290   ₹57,999  \n",
       "1  39.62 cm (15.6 inch) Display     ₹29,990   ₹44,999  \n",
       "2  39.62 cm (15.6 inch) Display     ₹39,990   ₹61,202  \n",
       "3  39.62 cm (15.6 inch) Display     ₹30,990   ₹51,999  \n",
       "4  39.62 cm (15.6 inch) Display     ₹38,000   ₹59,390  "
      ]
     },
     "execution_count": 15,
     "metadata": {},
     "output_type": "execute_result"
    }
   ],
   "source": [
    "df1.head()"
   ]
  },
  {
   "cell_type": "code",
   "execution_count": 16,
   "id": "546a66bc",
   "metadata": {},
   "outputs": [],
   "source": [
    "#filtering unwanted products (for example: refurbished products)\n",
    "df2 = df1[df1['description_1']!='Grade: Refurbished - Superb']"
   ]
  },
  {
   "cell_type": "code",
   "execution_count": 17,
   "id": "41264658",
   "metadata": {},
   "outputs": [],
   "source": [
    "df3 = df2[df2['description_1']!='Grade: Refurbished - Good']"
   ]
  },
  {
   "cell_type": "code",
   "execution_count": 18,
   "id": "46ed8b73",
   "metadata": {},
   "outputs": [],
   "source": [
    "df4 = df3.groupby('description_4').filter(lambda x: len(x)>6)"
   ]
  },
  {
   "cell_type": "code",
   "execution_count": 19,
   "id": "cdef5fca",
   "metadata": {},
   "outputs": [],
   "source": [
    "def handle_price(x):\n",
    "    if '₹' in x:\n",
    "        x = x.replace('₹','')\n",
    "        return str(x)"
   ]
  },
  {
   "cell_type": "code",
   "execution_count": 20,
   "id": "aee97ce9",
   "metadata": {},
   "outputs": [],
   "source": [
    "df4['offer price'] = df4['offer price'].apply(handle_price)"
   ]
  },
  {
   "cell_type": "code",
   "execution_count": 21,
   "id": "6eb8031c",
   "metadata": {},
   "outputs": [],
   "source": [
    "df4['mrp price'] = df4['mrp price'].apply(handle_price)"
   ]
  },
  {
   "cell_type": "code",
   "execution_count": 22,
   "id": "b6ae6992",
   "metadata": {},
   "outputs": [],
   "source": [
    "df4['offer price'] = df4['offer price'].apply(handle_comma)"
   ]
  },
  {
   "cell_type": "code",
   "execution_count": 23,
   "id": "cbfcbc1e",
   "metadata": {},
   "outputs": [],
   "source": [
    "df4['mrp price'] = df4['mrp price'].apply(handle_comma)"
   ]
  },
  {
   "cell_type": "code",
   "execution_count": 24,
   "id": "347b7db2",
   "metadata": {},
   "outputs": [],
   "source": [
    "df4['reviews'] = df4['reviews'].apply(handle_comma)"
   ]
  },
  {
   "cell_type": "code",
   "execution_count": 25,
   "id": "7e380d53",
   "metadata": {},
   "outputs": [
    {
     "data": {
      "text/plain": [
       "link              object\n",
       "name              object\n",
       "rating           float64\n",
       "rating_count       int64\n",
       "reviews            int64\n",
       "description_1     object\n",
       "description_4     object\n",
       "description_5     object\n",
       "offer price        int64\n",
       "mrp price          int64\n",
       "dtype: object"
      ]
     },
     "execution_count": 25,
     "metadata": {},
     "output_type": "execute_result"
    }
   ],
   "source": [
    "df4.dtypes"
   ]
  },
  {
   "cell_type": "code",
   "execution_count": 26,
   "id": "4456766d",
   "metadata": {},
   "outputs": [],
   "source": [
    "df4['first_name'] = df4['name'].apply(lambda x:x.split(\" \")[0])"
   ]
  },
  {
   "cell_type": "code",
   "execution_count": 27,
   "id": "23cedb1c",
   "metadata": {},
   "outputs": [],
   "source": [
    "df5 = df4.groupby('first_name').filter(lambda x:len(x)>=10)"
   ]
  },
  {
   "cell_type": "code",
   "execution_count": 28,
   "id": "3df11c7e",
   "metadata": {},
   "outputs": [],
   "source": [
    "df5.rename(columns={'first_name':'company'},inplace=True)"
   ]
  },
  {
   "cell_type": "code",
   "execution_count": 29,
   "id": "3c2b23eb",
   "metadata": {},
   "outputs": [],
   "source": [
    "df5['company'] = df5['company'].apply(lambda x:x.upper())"
   ]
  },
  {
   "cell_type": "code",
   "execution_count": 30,
   "id": "2412ff86",
   "metadata": {},
   "outputs": [
    {
     "data": {
      "text/plain": [
       "ASUS       96\n",
       "DELL       74\n",
       "LENOVO     64\n",
       "HP         63\n",
       "ACER       34\n",
       "INFINIX    27\n",
       "MSI        10\n",
       "Name: company, dtype: int64"
      ]
     },
     "execution_count": 30,
     "metadata": {},
     "output_type": "execute_result"
    }
   ],
   "source": [
    "df5['company'].value_counts()"
   ]
  },
  {
   "cell_type": "code",
   "execution_count": 31,
   "id": "9ae7d3bb",
   "metadata": {},
   "outputs": [
    {
     "data": {
      "text/html": [
       "<div>\n",
       "<style scoped>\n",
       "    .dataframe tbody tr th:only-of-type {\n",
       "        vertical-align: middle;\n",
       "    }\n",
       "\n",
       "    .dataframe tbody tr th {\n",
       "        vertical-align: top;\n",
       "    }\n",
       "\n",
       "    .dataframe thead th {\n",
       "        text-align: right;\n",
       "    }\n",
       "</style>\n",
       "<table border=\"1\" class=\"dataframe\">\n",
       "  <thead>\n",
       "    <tr style=\"text-align: right;\">\n",
       "      <th></th>\n",
       "      <th>link</th>\n",
       "      <th>name</th>\n",
       "      <th>rating</th>\n",
       "      <th>rating_count</th>\n",
       "      <th>reviews</th>\n",
       "      <th>description_1</th>\n",
       "      <th>description_4</th>\n",
       "      <th>description_5</th>\n",
       "      <th>offer price</th>\n",
       "      <th>mrp price</th>\n",
       "      <th>company</th>\n",
       "    </tr>\n",
       "  </thead>\n",
       "  <tbody>\n",
       "    <tr>\n",
       "      <th>0</th>\n",
       "      <td>https://www.flipkart.com/acer-aspire-3-ryzen-5...</td>\n",
       "      <td>acer Aspire 3 Ryzen 5 Quad Core 3500U - (8 GB/...</td>\n",
       "      <td>4.4</td>\n",
       "      <td>358</td>\n",
       "      <td>39</td>\n",
       "      <td>AMD Ryzen 5 Quad Core Processor</td>\n",
       "      <td>512 GB SSD</td>\n",
       "      <td>39.62 cm (15.6 inch) Display</td>\n",
       "      <td>39290</td>\n",
       "      <td>57999</td>\n",
       "      <td>ACER</td>\n",
       "    </tr>\n",
       "    <tr>\n",
       "      <th>1</th>\n",
       "      <td>https://www.flipkart.com/acer-extensa-15-core-...</td>\n",
       "      <td>acer Extensa 15 Core i3 11th Gen - (4 GB/256 G...</td>\n",
       "      <td>4.1</td>\n",
       "      <td>159</td>\n",
       "      <td>25</td>\n",
       "      <td>Intel Core i3 Processor (11th Gen)</td>\n",
       "      <td>256 GB SSD</td>\n",
       "      <td>39.62 cm (15.6 inch) Display</td>\n",
       "      <td>29990</td>\n",
       "      <td>44999</td>\n",
       "      <td>ACER</td>\n",
       "    </tr>\n",
       "    <tr>\n",
       "      <th>2</th>\n",
       "      <td>https://www.flipkart.com/dell-inspiron-core-i3...</td>\n",
       "      <td>DELL Inspiron Core i3 11th Gen - (8 GB/1 TB HD...</td>\n",
       "      <td>4.7</td>\n",
       "      <td>18</td>\n",
       "      <td>3</td>\n",
       "      <td>Intel Core i3 Processor (11th Gen)</td>\n",
       "      <td>1 TB HDD|256 GB SSD</td>\n",
       "      <td>39.62 cm (15.6 inch) Display</td>\n",
       "      <td>39990</td>\n",
       "      <td>61202</td>\n",
       "      <td>DELL</td>\n",
       "    </tr>\n",
       "    <tr>\n",
       "      <th>4</th>\n",
       "      <td>https://www.flipkart.com/lenovo-ideapad-3-core...</td>\n",
       "      <td>Lenovo IdeaPad 3 Core i3 11th Gen - (8 GB/512 ...</td>\n",
       "      <td>4.2</td>\n",
       "      <td>3764</td>\n",
       "      <td>358</td>\n",
       "      <td>Intel Core i3 Processor (11th Gen)</td>\n",
       "      <td>512 GB SSD</td>\n",
       "      <td>39.62 cm (15.6 inch) Display</td>\n",
       "      <td>38000</td>\n",
       "      <td>59390</td>\n",
       "      <td>LENOVO</td>\n",
       "    </tr>\n",
       "    <tr>\n",
       "      <th>5</th>\n",
       "      <td>https://www.flipkart.com/asus-vivobook-15-2022...</td>\n",
       "      <td>ASUS VivoBook 15 (2022) Core i3 10th Gen - (8 ...</td>\n",
       "      <td>4.3</td>\n",
       "      <td>8462</td>\n",
       "      <td>848</td>\n",
       "      <td>Intel Core i3 Processor (10th Gen)</td>\n",
       "      <td>512 GB SSD</td>\n",
       "      <td>39.62 cm (15.6 inch) Display</td>\n",
       "      <td>32990</td>\n",
       "      <td>45990</td>\n",
       "      <td>ASUS</td>\n",
       "    </tr>\n",
       "    <tr>\n",
       "      <th>...</th>\n",
       "      <td>...</td>\n",
       "      <td>...</td>\n",
       "      <td>...</td>\n",
       "      <td>...</td>\n",
       "      <td>...</td>\n",
       "      <td>...</td>\n",
       "      <td>...</td>\n",
       "      <td>...</td>\n",
       "      <td>...</td>\n",
       "      <td>...</td>\n",
       "      <td>...</td>\n",
       "    </tr>\n",
       "    <tr>\n",
       "      <th>551</th>\n",
       "      <td>https://www.flipkart.com/acer-aspire-3-celeron...</td>\n",
       "      <td>acer Aspire 3 Celeron Dual Core - (4 GB/256 GB...</td>\n",
       "      <td>4.5</td>\n",
       "      <td>21</td>\n",
       "      <td>6</td>\n",
       "      <td>Intel Celeron Dual Core Processor</td>\n",
       "      <td>256 GB SSD</td>\n",
       "      <td>35.56 cm (14 inch) Display</td>\n",
       "      <td>29800</td>\n",
       "      <td>29999</td>\n",
       "      <td>ACER</td>\n",
       "    </tr>\n",
       "    <tr>\n",
       "      <th>576</th>\n",
       "      <td>https://www.flipkart.com/dell-inspiron-3505-ry...</td>\n",
       "      <td>DELL Inspiron 3505 Ryzen 3 Dual Core 3250U - (...</td>\n",
       "      <td>4.3</td>\n",
       "      <td>1296</td>\n",
       "      <td>202</td>\n",
       "      <td>AMD Ryzen 3 Dual Core Processor</td>\n",
       "      <td>256 GB SSD</td>\n",
       "      <td>38.1 cm (15 inch) Display</td>\n",
       "      <td>37450</td>\n",
       "      <td>37969</td>\n",
       "      <td>DELL</td>\n",
       "    </tr>\n",
       "    <tr>\n",
       "      <th>577</th>\n",
       "      <td>https://www.flipkart.com/lenovo-v15-celeron-du...</td>\n",
       "      <td>Lenovo Lenovo V15 Celeron Dual Core - (4 GB/25...</td>\n",
       "      <td>3.0</td>\n",
       "      <td>4</td>\n",
       "      <td>0</td>\n",
       "      <td>Intel Celeron Dual Core Processor</td>\n",
       "      <td>256 GB SSD</td>\n",
       "      <td>39.62 cm (15.6 inch) Display</td>\n",
       "      <td>23990</td>\n",
       "      <td>41625</td>\n",
       "      <td>LENOVO</td>\n",
       "    </tr>\n",
       "    <tr>\n",
       "      <th>578</th>\n",
       "      <td>https://www.flipkart.com/dell-inspiron-ryzen-3...</td>\n",
       "      <td>DELL Inspiron Ryzen 3 Dual Core 3250U - (8 GB/...</td>\n",
       "      <td>4.3</td>\n",
       "      <td>605</td>\n",
       "      <td>63</td>\n",
       "      <td>AMD Ryzen 3 Dual Core Processor</td>\n",
       "      <td>256 GB SSD</td>\n",
       "      <td>39.62 cm (15.6 inches) Display</td>\n",
       "      <td>37500</td>\n",
       "      <td>52283</td>\n",
       "      <td>DELL</td>\n",
       "    </tr>\n",
       "    <tr>\n",
       "      <th>581</th>\n",
       "      <td>https://www.flipkart.com/acer-aspire-3-celeron...</td>\n",
       "      <td>acer Aspire 3 Celeron Dual Core - (4 GB/256 GB...</td>\n",
       "      <td>4.5</td>\n",
       "      <td>21</td>\n",
       "      <td>6</td>\n",
       "      <td>Intel Celeron Dual Core Processor</td>\n",
       "      <td>256 GB SSD</td>\n",
       "      <td>35.56 cm (14 inch) Display</td>\n",
       "      <td>29800</td>\n",
       "      <td>29999</td>\n",
       "      <td>ACER</td>\n",
       "    </tr>\n",
       "  </tbody>\n",
       "</table>\n",
       "<p>368 rows × 11 columns</p>\n",
       "</div>"
      ],
      "text/plain": [
       "                                                  link  \\\n",
       "0    https://www.flipkart.com/acer-aspire-3-ryzen-5...   \n",
       "1    https://www.flipkart.com/acer-extensa-15-core-...   \n",
       "2    https://www.flipkart.com/dell-inspiron-core-i3...   \n",
       "4    https://www.flipkart.com/lenovo-ideapad-3-core...   \n",
       "5    https://www.flipkart.com/asus-vivobook-15-2022...   \n",
       "..                                                 ...   \n",
       "551  https://www.flipkart.com/acer-aspire-3-celeron...   \n",
       "576  https://www.flipkart.com/dell-inspiron-3505-ry...   \n",
       "577  https://www.flipkart.com/lenovo-v15-celeron-du...   \n",
       "578  https://www.flipkart.com/dell-inspiron-ryzen-3...   \n",
       "581  https://www.flipkart.com/acer-aspire-3-celeron...   \n",
       "\n",
       "                                                  name  rating  rating_count  \\\n",
       "0    acer Aspire 3 Ryzen 5 Quad Core 3500U - (8 GB/...     4.4           358   \n",
       "1    acer Extensa 15 Core i3 11th Gen - (4 GB/256 G...     4.1           159   \n",
       "2    DELL Inspiron Core i3 11th Gen - (8 GB/1 TB HD...     4.7            18   \n",
       "4    Lenovo IdeaPad 3 Core i3 11th Gen - (8 GB/512 ...     4.2          3764   \n",
       "5    ASUS VivoBook 15 (2022) Core i3 10th Gen - (8 ...     4.3          8462   \n",
       "..                                                 ...     ...           ...   \n",
       "551  acer Aspire 3 Celeron Dual Core - (4 GB/256 GB...     4.5            21   \n",
       "576  DELL Inspiron 3505 Ryzen 3 Dual Core 3250U - (...     4.3          1296   \n",
       "577  Lenovo Lenovo V15 Celeron Dual Core - (4 GB/25...     3.0             4   \n",
       "578  DELL Inspiron Ryzen 3 Dual Core 3250U - (8 GB/...     4.3           605   \n",
       "581  acer Aspire 3 Celeron Dual Core - (4 GB/256 GB...     4.5            21   \n",
       "\n",
       "     reviews                       description_1        description_4  \\\n",
       "0         39     AMD Ryzen 5 Quad Core Processor           512 GB SSD   \n",
       "1         25  Intel Core i3 Processor (11th Gen)           256 GB SSD   \n",
       "2          3  Intel Core i3 Processor (11th Gen)  1 TB HDD|256 GB SSD   \n",
       "4        358  Intel Core i3 Processor (11th Gen)           512 GB SSD   \n",
       "5        848  Intel Core i3 Processor (10th Gen)           512 GB SSD   \n",
       "..       ...                                 ...                  ...   \n",
       "551        6   Intel Celeron Dual Core Processor           256 GB SSD   \n",
       "576      202     AMD Ryzen 3 Dual Core Processor           256 GB SSD   \n",
       "577        0   Intel Celeron Dual Core Processor           256 GB SSD   \n",
       "578       63     AMD Ryzen 3 Dual Core Processor           256 GB SSD   \n",
       "581        6   Intel Celeron Dual Core Processor           256 GB SSD   \n",
       "\n",
       "                      description_5  offer price  mrp price company  \n",
       "0      39.62 cm (15.6 inch) Display        39290      57999    ACER  \n",
       "1      39.62 cm (15.6 inch) Display        29990      44999    ACER  \n",
       "2      39.62 cm (15.6 inch) Display        39990      61202    DELL  \n",
       "4      39.62 cm (15.6 inch) Display        38000      59390  LENOVO  \n",
       "5      39.62 cm (15.6 inch) Display        32990      45990    ASUS  \n",
       "..                              ...          ...        ...     ...  \n",
       "551      35.56 cm (14 inch) Display        29800      29999    ACER  \n",
       "576       38.1 cm (15 inch) Display        37450      37969    DELL  \n",
       "577    39.62 cm (15.6 inch) Display        23990      41625  LENOVO  \n",
       "578  39.62 cm (15.6 inches) Display        37500      52283    DELL  \n",
       "581      35.56 cm (14 inch) Display        29800      29999    ACER  \n",
       "\n",
       "[368 rows x 11 columns]"
      ]
     },
     "execution_count": 31,
     "metadata": {},
     "output_type": "execute_result"
    }
   ],
   "source": [
    "df5"
   ]
  },
  {
   "cell_type": "code",
   "execution_count": null,
   "id": "85df81ab",
   "metadata": {},
   "outputs": [],
   "source": []
  }
 ],
 "metadata": {
  "kernelspec": {
   "display_name": "Python 3 (ipykernel)",
   "language": "python",
   "name": "python3"
  },
  "language_info": {
   "codemirror_mode": {
    "name": "ipython",
    "version": 3
   },
   "file_extension": ".py",
   "mimetype": "text/x-python",
   "name": "python",
   "nbconvert_exporter": "python",
   "pygments_lexer": "ipython3",
   "version": "3.9.7"
  }
 },
 "nbformat": 4,
 "nbformat_minor": 5
}
